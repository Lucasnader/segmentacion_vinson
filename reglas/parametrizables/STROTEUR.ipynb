{
 "cells": [
  {
   "cell_type": "code",
   "execution_count": null,
   "id": "927d096c",
   "metadata": {},
   "outputs": [
    {
     "name": "stdout",
     "output_type": "stream",
     "text": [
      "=== STROTEUR — Candidatos para X (conteos en 7 días) ===\n",
      "Ventanas evaluadas: 0 | Clientes: 0\n"
     ]
    },
    {
     "data": {
      "text/html": [
       "<div>\n",
       "<style scoped>\n",
       "    .dataframe tbody tr th:only-of-type {\n",
       "        vertical-align: middle;\n",
       "    }\n",
       "\n",
       "    .dataframe tbody tr th {\n",
       "        vertical-align: top;\n",
       "    }\n",
       "\n",
       "    .dataframe thead th {\n",
       "        text-align: right;\n",
       "    }\n",
       "</style>\n",
       "<table border=\"1\" class=\"dataframe\">\n",
       "  <thead>\n",
       "    <tr style=\"text-align: right;\">\n",
       "      <th></th>\n",
       "      <th>percentil</th>\n",
       "      <th>X_candidatos</th>\n",
       "    </tr>\n",
       "  </thead>\n",
       "  <tbody>\n",
       "    <tr>\n",
       "      <th>0</th>\n",
       "      <td>p85</td>\n",
       "      <td>NaN</td>\n",
       "    </tr>\n",
       "    <tr>\n",
       "      <th>1</th>\n",
       "      <td>p90</td>\n",
       "      <td>NaN</td>\n",
       "    </tr>\n",
       "    <tr>\n",
       "      <th>2</th>\n",
       "      <td>p95</td>\n",
       "      <td>NaN</td>\n",
       "    </tr>\n",
       "    <tr>\n",
       "      <th>3</th>\n",
       "      <td>p97</td>\n",
       "      <td>NaN</td>\n",
       "    </tr>\n",
       "    <tr>\n",
       "      <th>4</th>\n",
       "      <td>p99</td>\n",
       "      <td>NaN</td>\n",
       "    </tr>\n",
       "  </tbody>\n",
       "</table>\n",
       "</div>"
      ],
      "text/plain": [
       "  percentil  X_candidatos\n",
       "0       p85           NaN\n",
       "1       p90           NaN\n",
       "2       p95           NaN\n",
       "3       p97           NaN\n",
       "4       p99           NaN"
      ]
     },
     "metadata": {},
     "output_type": "display_data"
    },
    {
     "name": "stdout",
     "output_type": "stream",
     "text": [
      "Sugerencia (ceil p95): NA\n"
     ]
    }
   ],
   "source": [
    "# === STROTEUR — OUT / EUR / 9.950–10.000 en 7 días ============================\n",
    "import pandas as pd, numpy as np, math\n",
    "\n",
    "PATH = \"../../data/tx/datos_trx__with_subsub.csv\"\n",
    "PCTS = [0.85, 0.90, 0.95, 0.97, 0.99]\n",
    "\n",
    "df = pd.read_csv(PATH, dtype={\"customer_id\":\"string\"}, encoding=\"utf-8-sig\")\n",
    "df[\"tx_date_time\"] = pd.to_datetime(df[\"tx_date_time\"], errors=\"coerce\")\n",
    "df[\"tx_amount\"]    = pd.to_numeric(df[\"tx_amount\"], errors=\"coerce\")\n",
    "\n",
    "mask = (\n",
    "    df[\"tx_direction\"].astype(str).str.title().eq(\"Outbound\") &\n",
    "    df[\"tx_type\"].astype(str).str.title().eq(\"Cash\") &\n",
    "    df[\"tx_currency\"].astype(str).str.upper().eq(\"EUR\") &\n",
    "    df[\"tx_date_time\"].notna() & df[\"tx_amount\"].notna() &\n",
    "    df[\"tx_amount\"].abs().between(9950, 10000)\n",
    ")\n",
    "g = df.loc[mask, [\"customer_id\",\"tx_date_time\"]].sort_values([\"customer_id\",\"tx_date_time\"])\n",
    "\n",
    "def counts_7d(dates):\n",
    "    dates = np.array(dates.values, dtype=\"datetime64[ns]\")\n",
    "    n, j, out = len(dates), 0, []\n",
    "    for i in range(n):\n",
    "        end = dates[i] + np.timedelta64(7, \"D\")\n",
    "        while j < n and dates[j] <= end: j += 1\n",
    "        out.append(j - i)\n",
    "    return out\n",
    "\n",
    "counts = []\n",
    "for _, sub in g.groupby(\"customer_id\", sort=False):\n",
    "    if len(sub): counts.extend(counts_7d(sub[\"tx_date_time\"]))\n",
    "\n",
    "s = pd.Series(counts, dtype=float)\n",
    "q = s.quantile(PCTS) if len(s) else pd.Series(index=PCTS, dtype=float)\n",
    "\n",
    "tbl = pd.DataFrame({\"percentil\":[f\"p{int(p*100)}\" for p in PCTS],\n",
    "                    \"X_candidatos\":[q.get(p, np.nan) for p in PCTS]})\n",
    "print(\"=== STROTEUR — Candidatos para X (conteos en 7 días) ===\")\n",
    "print(f\"Ventanas evaluadas: {len(s):,} | Clientes: {g['customer_id'].nunique():,}\")\n",
    "display(tbl)\n",
    "print(f\"Sugerencia (ceil p95): {int(math.ceil(q.get(0.95))) if not np.isnan(q.get(0.95)) else 'NA'}\")\n"
   ]
  }
 ],
 "metadata": {
  "kernelspec": {
   "display_name": "Python 3",
   "language": "python",
   "name": "python3"
  },
  "language_info": {
   "codemirror_mode": {
    "name": "ipython",
    "version": 3
   },
   "file_extension": ".py",
   "mimetype": "text/x-python",
   "name": "python",
   "nbconvert_exporter": "python",
   "pygments_lexer": "ipython3",
   "version": "3.11.9"
  }
 },
 "nbformat": 4,
 "nbformat_minor": 5
}
