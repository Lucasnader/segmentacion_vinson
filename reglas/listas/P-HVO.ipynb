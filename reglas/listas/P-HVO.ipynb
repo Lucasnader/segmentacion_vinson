{
 "cells": [
  {
   "cell_type": "code",
   "execution_count": null,
   "id": "483ed117",
   "metadata": {},
   "outputs": [
    {
     "name": "stderr",
     "output_type": "stream",
     "text": [
      "C:\\Users\\vinso\\AppData\\Local\\Temp\\ipykernel_36624\\4252218145.py:16: DtypeWarning: Columns (70,71) have mixed types. Specify dtype option on import or set low_memory=False.\n",
      "  df = pd.read_csv(PATH, dtype={\"customer_id\": \"string\"}, encoding=\"utf-8-sig\")\n"
     ]
    },
    {
     "name": "stdout",
     "output_type": "stream",
     "text": [
      "=== P-HVO — Máximo # de transacciones en 30 días por cliente (Outbound Cash) ===\n",
      "Clientes con ≥1 tx elegible: 18\n",
      "p90: 68.30\n",
      "p95: 95.45\n",
      "p97: 123.67\n",
      "p99: 151.89\n",
      "\n",
      "Whole Number recomendado (ceil p95): 96\n"
     ]
    },
    {
     "name": "stderr",
     "output_type": "stream",
     "text": [
      "C:\\Users\\vinso\\AppData\\Local\\Temp\\ipykernel_36624\\4252218145.py:55: FutureWarning: DataFrameGroupBy.apply operated on the grouping columns. This behavior is deprecated, and in a future version of pandas the grouping columns will be excluded from the operation. Either pass `include_groups=False` to exclude the groupings or explicitly select the grouping columns after groupby to silence this warning.\n",
      "  .apply(lambda sub: pd.Series({\"max_30d\": max_count_30d(sub)})) \\\n"
     ]
    }
   ],
   "source": [
    "# === P-HVO — Max 30-day window per customer (Outbound Cash) ====================\n",
    "# Regla: When a Customer sends more than {var.Number} Outbound Cash transactions in 30 days...\n",
    "# Parámetro recomendado: Whole Number = ceil(p95) del máximo # de transacciones en 30 días por cliente\n",
    "\n",
    "import pandas as pd\n",
    "import numpy as np\n",
    "import math\n",
    "\n",
    "# -------- Parámetros editables --------\n",
    "PATH = \"../../data/tx/transacciones_cash_2025__with_subsub.csv\"\n",
    "SUBSUBSEGMENTS = \"I-2\"               # <-- ajusta el sub-subsegmento\n",
    "WINDOW_DAYS = 30\n",
    "PCTS = [90, 95, 97, 99]                   # percentiles a reportar\n",
    "\n",
    "# -------- Carga mínima --------\n",
    "df = pd.read_csv(PATH, dtype={\"customer_id\": \"string\"}, encoding=\"utf-8-sig\")\n",
    "\n",
    "# Filtrado por sub-subsegmento\n",
    "if isinstance(SUBSUBSEGMENTS, str):\n",
    "    target_labels = {SUBSUBSEGMENTS}\n",
    "else:\n",
    "    target_labels = set(map(str, SUBSUBSEGMENTS))\n",
    "\n",
    "df = df[df[\"customer_sub_sub_type\"].astype(str).isin(target_labels)].copy()\n",
    "\n",
    "# -------- Filtro según regla --------\n",
    "df[\"tx_date_time\"] = pd.to_datetime(df[\"tx_date_time\"], errors=\"coerce\")\n",
    "\n",
    "mask = (\n",
    "    (df[\"tx_direction\"].astype(str).str.title() == \"Outbound\") &\n",
    "    (df[\"tx_type\"].astype(str).str.title() == \"Cash\") &\n",
    "    (df[\"tx_date_time\"].notna()) &\n",
    "    (df[\"customer_id\"].notna())\n",
    ")\n",
    "g = df.loc[mask, [\"customer_id\", \"tx_date_time\"]].copy()\n",
    "\n",
    "if g.empty:\n",
    "    print(\"No hay transacciones elegibles para P-HVO con los filtros dados.\")\n",
    "else:\n",
    "    # --- Para cada cliente: máximo conteo en cualquier ventana [t, t+30d] ---\n",
    "    def max_count_30d(group: pd.DataFrame) -> int:\n",
    "        dates = np.sort(group[\"tx_date_time\"].values)\n",
    "        n = len(dates)\n",
    "        j = 0\n",
    "        best = 0\n",
    "        for i in range(n):\n",
    "            end = dates[i] + np.timedelta64(WINDOW_DAYS, \"D\")\n",
    "            while j < n and dates[j] <= end:\n",
    "                j += 1\n",
    "            best = max(best, j - i)\n",
    "        return best\n",
    "\n",
    "    max_per_customer = g.sort_values([\"customer_id\", \"tx_date_time\"]) \\\n",
    "                        .groupby(\"customer_id\", as_index=False) \\\n",
    "                        .apply(lambda sub: pd.Series({\"max_30d\": max_count_30d(sub)})) \\\n",
    "                        .reset_index(drop=True)\n",
    "\n",
    "    s = pd.to_numeric(max_per_customer[\"max_30d\"], errors=\"coerce\").dropna()\n",
    "    stats = {f\"p{p}\": (float(np.percentile(s, p)) if len(s) else np.nan) for p in PCTS}\n",
    "    recommended = int(math.ceil(stats[\"p95\"])) if np.isfinite(stats.get(\"p95\", np.nan)) else np.nan\n",
    "\n",
    "    print(\"=== P-HVO — Máximo # de transacciones en 30 días por cliente (Outbound Cash) ===\")\n",
    "    print(f\"Clientes con ≥1 tx elegible: {max_per_customer.shape[0]}\")\n",
    "    for p in PCTS:\n",
    "        v = stats[f\"p{p}\"]\n",
    "        print(f\"p{p:>2}: {v:.2f}\" if np.isfinite(v) else f\"p{p:>2}: NA\")\n",
    "    print(f\"\\nWhole Number recomendado (ceil p95): {recommended}\")\n"
   ]
  },
  {
   "cell_type": "markdown",
   "id": "bcb2682b",
   "metadata": {},
   "source": [
    "# Simulación alertas"
   ]
  },
  {
   "cell_type": "code",
   "execution_count": 3,
   "id": "270a7ff6",
   "metadata": {},
   "outputs": [
    {
     "name": "stderr",
     "output_type": "stream",
     "text": [
      "C:\\Users\\vinso\\AppData\\Local\\Temp\\ipykernel_26168\\3457039085.py:18: DtypeWarning: Columns (70,71) have mixed types. Specify dtype option on import or set low_memory=False.\n",
      "  df = pd.read_csv(PATH, dtype={\"customer_id\":\"string\"}, encoding=\"utf-8-sig\")\n"
     ]
    },
    {
     "name": "stdout",
     "output_type": "stream",
     "text": [
      "=== P-HVO — Parámetros (Number) ===\n"
     ]
    },
    {
     "data": {
      "text/html": [
       "<div>\n",
       "<style scoped>\n",
       "    .dataframe tbody tr th:only-of-type {\n",
       "        vertical-align: middle;\n",
       "    }\n",
       "\n",
       "    .dataframe tbody tr th {\n",
       "        vertical-align: top;\n",
       "    }\n",
       "\n",
       "    .dataframe thead th {\n",
       "        text-align: right;\n",
       "    }\n",
       "</style>\n",
       "<table border=\"1\" class=\"dataframe\">\n",
       "  <thead>\n",
       "    <tr style=\"text-align: right;\">\n",
       "      <th></th>\n",
       "      <th>escenario</th>\n",
       "      <th>Number</th>\n",
       "    </tr>\n",
       "  </thead>\n",
       "  <tbody>\n",
       "    <tr>\n",
       "      <th>0</th>\n",
       "      <td>Actual</td>\n",
       "      <td>121</td>\n",
       "    </tr>\n",
       "    <tr>\n",
       "      <th>1</th>\n",
       "      <td>p95</td>\n",
       "      <td>95</td>\n",
       "    </tr>\n",
       "    <tr>\n",
       "      <th>2</th>\n",
       "      <td>p97</td>\n",
       "      <td>124</td>\n",
       "    </tr>\n",
       "    <tr>\n",
       "      <th>3</th>\n",
       "      <td>p99</td>\n",
       "      <td>152</td>\n",
       "    </tr>\n",
       "  </tbody>\n",
       "</table>\n",
       "</div>"
      ],
      "text/plain": [
       "  escenario  Number\n",
       "0    Actual     121\n",
       "1       p95      95\n",
       "2       p97     124\n",
       "3       p99     152"
      ]
     },
     "metadata": {},
     "output_type": "display_data"
    },
    {
     "name": "stdout",
     "output_type": "stream",
     "text": [
      "=== P-HVO — Alertas por escenario (ventanas cliente–día) ===\n"
     ]
    },
    {
     "data": {
      "text/html": [
       "<div>\n",
       "<style scoped>\n",
       "    .dataframe tbody tr th:only-of-type {\n",
       "        vertical-align: middle;\n",
       "    }\n",
       "\n",
       "    .dataframe tbody tr th {\n",
       "        vertical-align: top;\n",
       "    }\n",
       "\n",
       "    .dataframe thead th {\n",
       "        text-align: right;\n",
       "    }\n",
       "</style>\n",
       "<table border=\"1\" class=\"dataframe\">\n",
       "  <thead>\n",
       "    <tr style=\"text-align: right;\">\n",
       "      <th></th>\n",
       "      <th>alertas_actual</th>\n",
       "      <th>alertas_p90</th>\n",
       "      <th>alertas_p95</th>\n",
       "      <th>alertas_p97</th>\n",
       "      <th>alertas_p99</th>\n",
       "    </tr>\n",
       "  </thead>\n",
       "  <tbody>\n",
       "    <tr>\n",
       "      <th>0</th>\n",
       "      <td>112</td>\n",
       "      <td>0</td>\n",
       "      <td>149</td>\n",
       "      <td>107</td>\n",
       "      <td>12</td>\n",
       "    </tr>\n",
       "  </tbody>\n",
       "</table>\n",
       "</div>"
      ],
      "text/plain": [
       "   alertas_actual  alertas_p90  alertas_p95  alertas_p97  alertas_p99\n",
       "0             112            0          149          107           12"
      ]
     },
     "metadata": {},
     "output_type": "display_data"
    }
   ],
   "source": [
    "# === P-HVO — Sensibilidad (Actual vs propuestos) ===============================\n",
    "# Lógica: tx_direction=Outbound & tx_type=Cash; COUNT_30d > Number\n",
    "# Unidad = ventanas cliente–día\n",
    "\n",
    "import pandas as pd, numpy as np\n",
    "pd.set_option(\"display.float_format\", lambda x: f\"{x:,.0f}\")\n",
    "\n",
    "PATH = \"../../data/tx/transacciones_cash_2025__with_subsub.csv\"\n",
    "SUBSUBSEGMENTS = [\"I-2\"]                # <-- ajusta el sub-subsegmento\n",
    "PARAMS = {\n",
    "    \"Actual\": {\"Number\": 121},\n",
    "    #\"p90\":    {\"Number\": 5},\n",
    "    \"p95\":    {\"Number\": 95},\n",
    "    \"p97\":    {\"Number\": 124},\n",
    "    \"p99\":    {\"Number\": 152},\n",
    "}\n",
    "\n",
    "df = pd.read_csv(PATH, dtype={\"customer_id\":\"string\"}, encoding=\"utf-8-sig\")\n",
    "df[\"tx_date_time\"] = pd.to_datetime(df[\"tx_date_time\"], errors=\"coerce\")\n",
    "df[\"tx_direction\"] = df[\"tx_direction\"].astype(str).str.title()\n",
    "df[\"tx_type\"]      = df[\"tx_type\"].astype(str).str.title()\n",
    "\n",
    "# Filtrado por sub-subsegmento\n",
    "if isinstance(SUBSUBSEGMENTS, str):\n",
    "    target_labels = {SUBSUBSEGMENTS}\n",
    "else:\n",
    "    target_labels = set(map(str, SUBSUBSEGMENTS))\n",
    "\n",
    "df = df[df[\"customer_sub_sub_type\"].astype(str).isin(target_labels)].copy()\n",
    "\n",
    "g = df[(df[\"tx_direction\"].eq(\"Outbound\")) & (df[\"tx_type\"].eq(\"Cash\")) & df[\"customer_id\"].notna() & df[\"tx_date_time\"].notna()][[\"customer_id\",\"tx_date_time\"]]\n",
    "\n",
    "parts=[]\n",
    "for cid, sub in g.groupby(\"customer_id\", sort=False):\n",
    "    daily = sub.set_index(\"tx_date_time\").assign(x=1)[\"x\"].resample(\"D\").sum().fillna(0)\n",
    "    C30   = daily.rolling(\"30D\").sum()\n",
    "    parts.append(pd.DataFrame({\"customer_id\": cid, \"date\": C30.index, \"C30\": C30.values}))\n",
    "M = pd.concat(parts, ignore_index=True) if parts else pd.DataFrame(columns=[\"customer_id\",\"date\",\"C30\"])\n",
    "\n",
    "order = [\"Actual\",\"p90\",\"p95\",\"p97\",\"p99\"]\n",
    "param_tbl = pd.DataFrame(PARAMS).T.loc[[k for k in order if k in PARAMS]].rename_axis(\"escenario\").reset_index()\n",
    "print(\"=== P-HVO — Parámetros (Number) ===\"); display(param_tbl)\n",
    "\n",
    "counts = {k: int(M.loc[M[\"C30\"] > v[\"Number\"], [\"customer_id\",\"date\"]].drop_duplicates().shape[0]) for k,v in PARAMS.items()}\n",
    "\n",
    "out = pd.DataFrame([{\n",
    "    \"alertas_actual\": counts.get(\"Actual\", 0),\n",
    "    \"alertas_p90\":    counts.get(\"p90\", 0),\n",
    "    \"alertas_p95\":    counts.get(\"p95\", 0),\n",
    "    \"alertas_p97\":    counts.get(\"p97\", 0),\n",
    "    \"alertas_p99\":    counts.get(\"p99\", 0),\n",
    "}])\n",
    "print(\"=== P-HVO — Alertas por escenario (ventanas cliente–día) ===\"); display(out)\n"
   ]
  },
  {
   "cell_type": "code",
   "execution_count": null,
   "id": "01f2106f",
   "metadata": {},
   "outputs": [],
   "source": []
  }
 ],
 "metadata": {
  "kernelspec": {
   "display_name": "Python 3",
   "language": "python",
   "name": "python3"
  },
  "language_info": {
   "codemirror_mode": {
    "name": "ipython",
    "version": 3
   },
   "file_extension": ".py",
   "mimetype": "text/x-python",
   "name": "python",
   "nbconvert_exporter": "python",
   "pygments_lexer": "ipython3",
   "version": "3.11.9"
  }
 },
 "nbformat": 4,
 "nbformat_minor": 5
}
