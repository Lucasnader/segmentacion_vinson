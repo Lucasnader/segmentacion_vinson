{
 "cells": [
  {
   "cell_type": "code",
   "execution_count": 1,
   "id": "bdc191f3",
   "metadata": {},
   "outputs": [
    {
     "name": "stdout",
     "output_type": "stream",
     "text": [
      "=== P-TLO — Percentiles de monto (CLP, Outbound Cash) ===\n",
      "p90: 2,839,709\n",
      "p95: 4,000,000\n",
      "p97: 5,000,000\n",
      "p99: 10,843,500\n",
      "\n",
      "Amount recomendado (p95): 4,000,000 CLP\n"
     ]
    }
   ],
   "source": [
    "# === P-TLO — Threshold por monto (Outbound Cash) ===============================\n",
    "# Regla: When an Outbound Cash transaction is over [Amount] {var.Amount} CLP, apply {action}.\n",
    "# Justificación: seleccionar el monto en el percentil 95 de la distribución.\n",
    "\n",
    "import pandas as pd\n",
    "import numpy as np\n",
    "\n",
    "# -------- Parámetros editables --------\n",
    "PATH = \"../../data/tx_retail_core.csv\"   # <-- cambia el CSV\n",
    "PCTS = [90, 95, 97, 99]                   # percentiles a reportar\n",
    "\n",
    "# -------- Carga mínima --------\n",
    "df = pd.read_csv(PATH, dtype={\"customer_id\": \"string\"}, encoding=\"utf-8-sig\")\n",
    "\n",
    "# -------- Filtro según regla --------\n",
    "df[\"tx_base_amount\"] = pd.to_numeric(df[\"tx_base_amount\"], errors=\"coerce\")\n",
    "mask = (\n",
    "    (df[\"tx_direction\"].astype(str).str.title() == \"Outbound\") &\n",
    "    (df[\"tx_type\"].astype(str).str.title() == \"Cash\") &\n",
    "    (df[\"tx_base_amount\"] > 0)  # montos válidos y positivos en CLP\n",
    ")\n",
    "g = df.loc[mask, [\"tx_base_amount\"]].dropna()\n",
    "\n",
    "if g.empty:\n",
    "    print(\"No hay transacciones elegibles para P-TLO con los filtros dados.\")\n",
    "else:\n",
    "    s = g[\"tx_base_amount\"].astype(float)\n",
    "    stats = {f\"p{p}\": float(np.percentile(s, p)) for p in PCTS}\n",
    "\n",
    "    # Recomendado: el propio p95 (entero para CLP)\n",
    "    recommended_amount = int(round(stats[\"p95\"]))\n",
    "\n",
    "    print(\"=== P-TLO — Percentiles de monto (CLP, Outbound Cash) ===\")\n",
    "    for p in PCTS:\n",
    "        v = stats[f\"p{p}\"]\n",
    "        print(f\"p{p:>2}: {v:,.0f}\")\n",
    "    print(f\"\\nAmount recomendado (p95): {recommended_amount:,.0f} CLP\")\n"
   ]
  },
  {
   "cell_type": "markdown",
   "id": "c5190af4",
   "metadata": {},
   "source": [
    "# Simulación alertas"
   ]
  },
  {
   "cell_type": "code",
   "execution_count": 5,
   "id": "ab5b7431",
   "metadata": {},
   "outputs": [
    {
     "name": "stdout",
     "output_type": "stream",
     "text": [
      "=== P-TLO — Parámetros (Amount) ===\n"
     ]
    },
    {
     "data": {
      "text/html": [
       "<div>\n",
       "<style scoped>\n",
       "    .dataframe tbody tr th:only-of-type {\n",
       "        vertical-align: middle;\n",
       "    }\n",
       "\n",
       "    .dataframe tbody tr th {\n",
       "        vertical-align: top;\n",
       "    }\n",
       "\n",
       "    .dataframe thead th {\n",
       "        text-align: right;\n",
       "    }\n",
       "</style>\n",
       "<table border=\"1\" class=\"dataframe\">\n",
       "  <thead>\n",
       "    <tr style=\"text-align: right;\">\n",
       "      <th></th>\n",
       "      <th>escenario</th>\n",
       "      <th>Amount</th>\n",
       "    </tr>\n",
       "  </thead>\n",
       "  <tbody>\n",
       "    <tr>\n",
       "      <th>0</th>\n",
       "      <td>p95</td>\n",
       "      <td>521000390</td>\n",
       "    </tr>\n",
       "    <tr>\n",
       "      <th>1</th>\n",
       "      <td>p97</td>\n",
       "      <td>587700874</td>\n",
       "    </tr>\n",
       "    <tr>\n",
       "      <th>2</th>\n",
       "      <td>p99</td>\n",
       "      <td>941743242</td>\n",
       "    </tr>\n",
       "  </tbody>\n",
       "</table>\n",
       "</div>"
      ],
      "text/plain": [
       "  escenario     Amount\n",
       "0       p95  521000390\n",
       "1       p97  587700874\n",
       "2       p99  941743242"
      ]
     },
     "metadata": {},
     "output_type": "display_data"
    },
    {
     "name": "stdout",
     "output_type": "stream",
     "text": [
      "=== P-TLO — Alertas por escenario (tx) ===\n"
     ]
    },
    {
     "data": {
      "text/html": [
       "<div>\n",
       "<style scoped>\n",
       "    .dataframe tbody tr th:only-of-type {\n",
       "        vertical-align: middle;\n",
       "    }\n",
       "\n",
       "    .dataframe tbody tr th {\n",
       "        vertical-align: top;\n",
       "    }\n",
       "\n",
       "    .dataframe thead th {\n",
       "        text-align: right;\n",
       "    }\n",
       "</style>\n",
       "<table border=\"1\" class=\"dataframe\">\n",
       "  <thead>\n",
       "    <tr style=\"text-align: right;\">\n",
       "      <th></th>\n",
       "      <th>alertas_actual</th>\n",
       "      <th>alertas_p90</th>\n",
       "      <th>alertas_p95</th>\n",
       "      <th>alertas_p97</th>\n",
       "      <th>alertas_p99</th>\n",
       "    </tr>\n",
       "  </thead>\n",
       "  <tbody>\n",
       "    <tr>\n",
       "      <th>0</th>\n",
       "      <td>0</td>\n",
       "      <td>0</td>\n",
       "      <td>20</td>\n",
       "      <td>10</td>\n",
       "      <td>4</td>\n",
       "    </tr>\n",
       "  </tbody>\n",
       "</table>\n",
       "</div>"
      ],
      "text/plain": [
       "   alertas_actual  alertas_p90  alertas_p95  alertas_p97  alertas_p99\n",
       "0               0            0           20           10            4"
      ]
     },
     "metadata": {},
     "output_type": "display_data"
    }
   ],
   "source": [
    "# === P-TLO — Sensibilidad (Actual vs propuestos) ===============================\n",
    "# LÓGICA EXACTA:\n",
    "# tx_direction = Outbound\n",
    "# AND tx_base_amount > [Amount]\n",
    "# Unidad = transacciones que cumplen\n",
    "\n",
    "import pandas as pd\n",
    "pd.set_option(\"display.float_format\", lambda x: f\"{x:,.0f}\")\n",
    "\n",
    "PATH=\"../../data/tx_retail_whale.csv\"\n",
    "PARAMS={\n",
    "    # \"Actual\":{\"Amount\":182_692_960},\n",
    "    # \"p90\":   {\"Amount\":105_957_906},\n",
    "    \"p95\":   {\"Amount\":521_000_390},\n",
    "    \"p97\":   {\"Amount\":587_700_874},\n",
    "    \"p99\":   {\"Amount\":941_743_242},\n",
    "}\n",
    "\n",
    "df=pd.read_csv(PATH, dtype={\"customer_id\":\"string\"}, encoding=\"utf-8-sig\")\n",
    "df[\"tx_direction\"]=df[\"tx_direction\"].astype(str).str.title()\n",
    "df[\"tx_base_amount\"]=pd.to_numeric(df[\"tx_base_amount\"], errors=\"coerce\")\n",
    "\n",
    "g=df[(df[\"tx_direction\"].eq(\"Outbound\")) & df[\"tx_base_amount\"].notna()].copy()\n",
    "param_tbl=pd.DataFrame(PARAMS).T.rename_axis(\"escenario\").reset_index()\n",
    "print(\"=== P-TLO — Parámetros (Amount) ===\"); display(param_tbl)\n",
    "\n",
    "counts={k:int((g[\"tx_base_amount\"]>v[\"Amount\"]).sum()) for k,v in PARAMS.items()}\n",
    "out=pd.DataFrame([{\n",
    "    \"alertas_actual\":counts.get(\"Actual\",0),\n",
    "    \"alertas_p90\":counts.get(\"p90\",0),\n",
    "    \"alertas_p95\":counts.get(\"p95\",0),\n",
    "    \"alertas_p97\":counts.get(\"p97\",0),\n",
    "    \"alertas_p99\":counts.get(\"p99\",0),\n",
    "}])\n",
    "print(\"=== P-TLO — Alertas por escenario (tx) ===\"); display(out)\n"
   ]
  },
  {
   "cell_type": "code",
   "execution_count": null,
   "id": "5e4f04f3",
   "metadata": {},
   "outputs": [],
   "source": []
  }
 ],
 "metadata": {
  "kernelspec": {
   "display_name": "Python 3",
   "language": "python",
   "name": "python3"
  },
  "language_info": {
   "codemirror_mode": {
    "name": "ipython",
    "version": 3
   },
   "file_extension": ".py",
   "mimetype": "text/x-python",
   "name": "python",
   "nbconvert_exporter": "python",
   "pygments_lexer": "ipython3",
   "version": "3.11.9"
  }
 },
 "nbformat": 4,
 "nbformat_minor": 5
}
