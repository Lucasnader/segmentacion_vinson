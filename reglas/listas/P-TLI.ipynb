{
 "cells": [
  {
   "cell_type": "code",
   "execution_count": 3,
   "id": "d59ddec9",
   "metadata": {},
   "outputs": [
    {
     "name": "stderr",
     "output_type": "stream",
     "text": [
      "C:\\Users\\vinso\\AppData\\Local\\Temp\\ipykernel_48912\\2773610635.py:14: DtypeWarning: Columns (70,71) have mixed types. Specify dtype option on import or set low_memory=False.\n",
      "  df = pd.read_csv(PATH, dtype={\"customer_id\": \"string\"}, encoding=\"utf-8-sig\")\n"
     ]
    },
    {
     "name": "stdout",
     "output_type": "stream",
     "text": [
      "=== P-TLI — Percentiles de monto (CLP, Inbound Cash) ===\n",
      "p90: 1,820,083,200\n",
      "p95: 2,402,783,176\n",
      "p97: 2,915,963,280\n",
      "p99: 4,021,784,704\n",
      "\n",
      "Amount recomendado (p95): 2,402,783,176 CLP\n"
     ]
    }
   ],
   "source": [
    "# === P-TLI — Threshold por monto (Inbound Cash) ================================\n",
    "# Regla: When an Inbound Cash transaction is over [Amount] {var.Amount} CLP, apply {action}.\n",
    "# Justificación: seleccionar el monto en el percentil 95 de la distribución.\n",
    "\n",
    "import pandas as pd\n",
    "import numpy as np\n",
    "\n",
    "# -------- Parámetros editables --------\n",
    "PATH = \"../../data/tx/transacciones_cash_2025__with_subsub.csv\"\n",
    "SUBSUBSEGMENTS = \"I-2\"         # <-- ajusta el sub-subsegmento\n",
    "PCTS = [90, 95, 97, 99]         # percentiles a reportar\n",
    "\n",
    "# -------- Carga csv --------\n",
    "df = pd.read_csv(PATH, dtype={\"customer_id\": \"string\"}, encoding=\"utf-8-sig\")\n",
    "\n",
    "# Filtrado por sub-subsegmento\n",
    "if isinstance(SUBSUBSEGMENTS, str):\n",
    "    target_labels = {SUBSUBSEGMENTS}\n",
    "else:\n",
    "    target_labels = set(map(str, SUBSUBSEGMENTS))   \n",
    "\n",
    "df = df[df[\"customer_sub_sub_type\"].astype(str).isin(target_labels)].copy()\n",
    "\n",
    "# -------- Filtro según regla --------\n",
    "df[\"tx_base_amount\"] = pd.to_numeric(df[\"tx_base_amount\"], errors=\"coerce\")\n",
    "mask = (\n",
    "    (df[\"tx_direction\"].astype(str).str.title() == \"Inbound\") &\n",
    "    (df[\"tx_type\"].astype(str).str.title() == \"Cash\") &\n",
    "    (df[\"tx_base_amount\"] > 0)  # montos válidos y positivos en CLP\n",
    ")\n",
    "g = df.loc[mask, [\"tx_base_amount\"]].dropna()\n",
    "\n",
    "if g.empty:\n",
    "    print(\"No hay transacciones elegibles para P-TLI con los filtros dados.\")\n",
    "else:\n",
    "    s = g[\"tx_base_amount\"].astype(float)\n",
    "    stats = {f\"p{p}\": float(np.percentile(s, p)) for p in PCTS}\n",
    "\n",
    "    # Recomendado:p95\n",
    "    recommended_amount = int(round(stats[\"p95\"]))\n",
    "\n",
    "    print(\"=== P-TLI — Percentiles de monto (CLP, Inbound Cash) ===\")\n",
    "    for p in PCTS:\n",
    "        v = stats[f\"p{p}\"]\n",
    "        print(f\"p{p:>2}: {v:,.0f}\")\n",
    "    print(f\"\\nAmount recomendado (p95): {recommended_amount:,.0f} CLP\")\n"
   ]
  },
  {
   "cell_type": "markdown",
   "id": "c905d2ac",
   "metadata": {},
   "source": [
    "# Simulación alertas"
   ]
  },
  {
   "cell_type": "code",
   "execution_count": 5,
   "id": "61193b02",
   "metadata": {},
   "outputs": [
    {
     "name": "stdout",
     "output_type": "stream",
     "text": [
      "=== P-TLI — Parámetros (Amount) ===\n"
     ]
    },
    {
     "data": {
      "text/html": [
       "<div>\n",
       "<style scoped>\n",
       "    .dataframe tbody tr th:only-of-type {\n",
       "        vertical-align: middle;\n",
       "    }\n",
       "\n",
       "    .dataframe tbody tr th {\n",
       "        vertical-align: top;\n",
       "    }\n",
       "\n",
       "    .dataframe thead th {\n",
       "        text-align: right;\n",
       "    }\n",
       "</style>\n",
       "<table border=\"1\" class=\"dataframe\">\n",
       "  <thead>\n",
       "    <tr style=\"text-align: right;\">\n",
       "      <th></th>\n",
       "      <th>escenario</th>\n",
       "      <th>Amount</th>\n",
       "    </tr>\n",
       "  </thead>\n",
       "  <tbody>\n",
       "    <tr>\n",
       "      <th>0</th>\n",
       "      <td>p95</td>\n",
       "      <td>617000000</td>\n",
       "    </tr>\n",
       "    <tr>\n",
       "      <th>1</th>\n",
       "      <td>p97</td>\n",
       "      <td>873000873</td>\n",
       "    </tr>\n",
       "    <tr>\n",
       "      <th>2</th>\n",
       "      <td>p99</td>\n",
       "      <td>1096000000</td>\n",
       "    </tr>\n",
       "  </tbody>\n",
       "</table>\n",
       "</div>"
      ],
      "text/plain": [
       "  escenario      Amount\n",
       "0       p95   617000000\n",
       "1       p97   873000873\n",
       "2       p99  1096000000"
      ]
     },
     "metadata": {},
     "output_type": "display_data"
    },
    {
     "name": "stdout",
     "output_type": "stream",
     "text": [
      "=== P-TLI — Alertas por escenario (tx) ===\n"
     ]
    },
    {
     "data": {
      "text/html": [
       "<div>\n",
       "<style scoped>\n",
       "    .dataframe tbody tr th:only-of-type {\n",
       "        vertical-align: middle;\n",
       "    }\n",
       "\n",
       "    .dataframe tbody tr th {\n",
       "        vertical-align: top;\n",
       "    }\n",
       "\n",
       "    .dataframe thead th {\n",
       "        text-align: right;\n",
       "    }\n",
       "</style>\n",
       "<table border=\"1\" class=\"dataframe\">\n",
       "  <thead>\n",
       "    <tr style=\"text-align: right;\">\n",
       "      <th></th>\n",
       "      <th>alertas_actual</th>\n",
       "      <th>alertas_p90</th>\n",
       "      <th>alertas_p95</th>\n",
       "      <th>alertas_p97</th>\n",
       "      <th>alertas_p99</th>\n",
       "    </tr>\n",
       "  </thead>\n",
       "  <tbody>\n",
       "    <tr>\n",
       "      <th>0</th>\n",
       "      <td>0</td>\n",
       "      <td>0</td>\n",
       "      <td>14</td>\n",
       "      <td>9</td>\n",
       "      <td>3</td>\n",
       "    </tr>\n",
       "  </tbody>\n",
       "</table>\n",
       "</div>"
      ],
      "text/plain": [
       "   alertas_actual  alertas_p90  alertas_p95  alertas_p97  alertas_p99\n",
       "0               0            0           14            9            3"
      ]
     },
     "metadata": {},
     "output_type": "display_data"
    }
   ],
   "source": [
    "# === P-TLI — Sensibilidad (Actual vs propuestos) ===============================\n",
    "# LÓGICA EXACTA:\n",
    "# tx_direction = Inbound\n",
    "# AND tx_base_amount > [Amount]\n",
    "# Unidad = transacciones que cumplen\n",
    "\n",
    "import pandas as pd\n",
    "pd.set_option(\"display.float_format\", lambda x: f\"{x:,.0f}\")\n",
    "\n",
    "PATH=\"../../data/tx_retail_whale.csv\"\n",
    "PARAMS={\n",
    "   # \"Actual\":{\"Amount\":200_000_000},\n",
    "   # \"p90\":   {\"Amount\":254_400_000},\n",
    "    \"p95\":   {\"Amount\":617_000_000},\n",
    "    \"p97\":   {\"Amount\":873_000_873},\n",
    "    \"p99\":   {\"Amount\":1_096_000_000},\n",
    "}\n",
    "\n",
    "df=pd.read_csv(PATH, dtype={\"customer_id\":\"string\"}, encoding=\"utf-8-sig\")\n",
    "df[\"tx_direction\"]=df[\"tx_direction\"].astype(str).str.title()\n",
    "df[\"tx_base_amount\"]=pd.to_numeric(df[\"tx_base_amount\"], errors=\"coerce\")\n",
    "\n",
    "g=df[(df[\"tx_direction\"].eq(\"Inbound\")) & df[\"tx_base_amount\"].notna()].copy()\n",
    "param_tbl=pd.DataFrame(PARAMS).T.rename_axis(\"escenario\").reset_index()\n",
    "print(\"=== P-TLI — Parámetros (Amount) ===\"); display(param_tbl)\n",
    "\n",
    "counts={k:int((g[\"tx_base_amount\"]>v[\"Amount\"]).sum()) for k,v in PARAMS.items()}\n",
    "out=pd.DataFrame([{\n",
    "    \"alertas_actual\":counts.get(\"Actual\",0),\n",
    "    \"alertas_p90\":counts.get(\"p90\",0),\n",
    "    \"alertas_p95\":counts.get(\"p95\",0),\n",
    "    \"alertas_p97\":counts.get(\"p97\",0),\n",
    "    \"alertas_p99\":counts.get(\"p99\",0),\n",
    "}])\n",
    "print(\"=== P-TLI — Alertas por escenario (tx) ===\"); display(out)\n"
   ]
  },
  {
   "cell_type": "code",
   "execution_count": null,
   "id": "f147e4ae",
   "metadata": {},
   "outputs": [],
   "source": []
  }
 ],
 "metadata": {
  "kernelspec": {
   "display_name": "Python 3",
   "language": "python",
   "name": "python3"
  },
  "language_info": {
   "codemirror_mode": {
    "name": "ipython",
    "version": 3
   },
   "file_extension": ".py",
   "mimetype": "text/x-python",
   "name": "python",
   "nbconvert_exporter": "python",
   "pygments_lexer": "ipython3",
   "version": "3.11.9"
  }
 },
 "nbformat": 4,
 "nbformat_minor": 5
}
